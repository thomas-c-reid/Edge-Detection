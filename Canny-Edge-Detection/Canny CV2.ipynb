{
  "nbformat": 4,
  "nbformat_minor": 0,
  "metadata": {
    "colab": {
      "provenance": []
    },
    "kernelspec": {
      "name": "python3",
      "display_name": "Python 3"
    },
    "language_info": {
      "name": "python"
    }
  },
  "cells": [
    {
      "cell_type": "markdown",
      "source": [
        "**Importing Dependencies**"
      ],
      "metadata": {
        "id": "EibcdgE80Yxj"
      }
    },
    {
      "cell_type": "code",
      "execution_count": 17,
      "metadata": {
        "id": "tdOl2xZ3UL3j"
      },
      "outputs": [],
      "source": [
        "import cv2\n",
        "import os\n",
        "from matplotlib import pyplot as plt\n",
        "import numpy as np"
      ]
    },
    {
      "cell_type": "markdown",
      "source": [
        "**Importing the Image**\n"
      ],
      "metadata": {
        "id": "I1NxGuDd0UTj"
      }
    },
    {
      "cell_type": "code",
      "source": [
        "PATH = \"339.jpg\"\n",
        "img = cv2.imread(PATH)"
      ],
      "metadata": {
        "id": "lhrBP8KnzDhA"
      },
      "execution_count": 10,
      "outputs": []
    },
    {
      "cell_type": "code",
      "source": [
        "# Viewing the image using CV2\n",
        "# resized_img = cv2.resize(img, int(img.shape[1]/2), int(img.shape[0]/2))\n",
        "# cv2.imshow(img)\n",
        "# cv2.waitKey(0)\n",
        "# cv2.destroyAllWindows()"
      ],
      "metadata": {
        "id": "4tV_6GtU0uis"
      },
      "execution_count": 18,
      "outputs": []
    },
    {
      "cell_type": "markdown",
      "source": [
        "**Detecting Edges**\n"
      ],
      "metadata": {
        "id": "f8Dj0HOtEdgt"
      }
    },
    {
      "cell_type": "code",
      "source": [
        "gray = cv2.cvtColor(img, cv2.COLOR_BGR2GRAY)\n",
        "blur = cv2.GaussianBlur(gray, (5,5), 0)\n",
        "canny = cv2.Canny(blur, threshold1=180, threshold2= 200)\n",
        "\n",
        "# resized = cv2.resize(canny, (int(2190/2), int(2738/2)))\n",
        "# cv2.imshow(\"Canny\", resized)\n",
        "# cv2.waitKey(0)\n",
        "# cv2.destroyAllWindows()"
      ],
      "metadata": {
        "id": "T3LwLyJOEiTw"
      },
      "execution_count": 19,
      "outputs": []
    },
    {
      "cell_type": "markdown",
      "source": [
        "**Exporting edges**"
      ],
      "metadata": {
        "id": "afec2FoeGenr"
      }
    },
    {
      "cell_type": "code",
      "source": [
        "np.savetxt('edges.csv',canny, delimiter=\",\")\n",
        "cv2.imwrite('edges.jpg', canny)"
      ],
      "metadata": {
        "colab": {
          "base_uri": "https://localhost:8080/"
        },
        "id": "D1CUrcd_Gh3s",
        "outputId": "cc4a5516-a0c6-45e6-d75d-91eece1ed5d5"
      },
      "execution_count": 20,
      "outputs": [
        {
          "output_type": "execute_result",
          "data": {
            "text/plain": [
              "True"
            ]
          },
          "metadata": {},
          "execution_count": 20
        }
      ]
    }
  ]
}